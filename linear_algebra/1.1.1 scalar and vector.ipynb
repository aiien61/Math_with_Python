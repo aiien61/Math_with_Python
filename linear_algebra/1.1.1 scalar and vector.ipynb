{
 "cells": [
  {
   "cell_type": "code",
   "execution_count": 1,
   "id": "94cb6a1d-5269-499b-b4b5-74cd5e7d4608",
   "metadata": {},
   "outputs": [
    {
     "name": "stderr",
     "output_type": "stream",
     "text": [
      "/opt/conda/lib/python3.9/site-packages/pandas/core/computation/expressions.py:21: UserWarning: Pandas requires version '2.8.4' or newer of 'numexpr' (version '2.8.0' currently installed).\n",
      "  from pandas.core.computation.check import NUMEXPR_INSTALLED\n",
      "/opt/conda/lib/python3.9/site-packages/pandas/core/arrays/masked.py:60: UserWarning: Pandas requires version '1.3.6' or newer of 'bottleneck' (version '1.3.4' currently installed).\n",
      "  from pandas.core import (\n"
     ]
    }
   ],
   "source": [
    "import numpy as np\n",
    "import pandas as pd"
   ]
  },
  {
   "cell_type": "code",
   "execution_count": 3,
   "id": "8bb87113-9f3a-4ea2-9af9-2f8da7ffa5c2",
   "metadata": {},
   "outputs": [
    {
     "name": "stdout",
     "output_type": "stream",
     "text": [
      "[[ 5  3]\n",
      " [ 3 -4]\n",
      " [-2 -4]\n",
      " [-3  5]]\n",
      "     x    y  distance\n",
      "b  5.0  3.0  5.830952\n",
      "g  3.0 -4.0  5.000000\n",
      "r -2.0 -4.0  4.472136\n",
      "k -3.0  5.0  5.830952\n"
     ]
    }
   ],
   "source": [
    "points = np.array([\n",
    "    [5, 3],\n",
    "    [3, -4],\n",
    "    [-2, -4],\n",
    "    [-3, 5]\n",
    "])\n",
    "\n",
    "print(points)\n",
    "\n",
    "distances = [(x ** 2 + y ** 2) ** 0.5 for x, y in points]\n",
    "\n",
    "re = np.c_[points, distances]\n",
    "re1 = pd.DataFrame(re)\n",
    "re1.columns = ['x', 'y', 'distance']\n",
    "re1.index = ['b', 'g', 'r', 'k']\n",
    "print(re1)"
   ]
  },
  {
   "cell_type": "code",
   "execution_count": null,
   "id": "b4272685-4d64-45a9-997a-67a96f09d597",
   "metadata": {},
   "outputs": [],
   "source": []
  }
 ],
 "metadata": {
  "kernelspec": {
   "display_name": "Python 3 (ipykernel)",
   "language": "python",
   "name": "python3"
  },
  "language_info": {
   "codemirror_mode": {
    "name": "ipython",
    "version": 3
   },
   "file_extension": ".py",
   "mimetype": "text/x-python",
   "name": "python",
   "nbconvert_exporter": "python",
   "pygments_lexer": "ipython3",
   "version": "3.9.12"
  }
 },
 "nbformat": 4,
 "nbformat_minor": 5
}
