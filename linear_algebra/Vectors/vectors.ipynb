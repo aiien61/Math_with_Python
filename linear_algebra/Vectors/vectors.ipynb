{
 "cells": [
  {
   "cell_type": "code",
   "execution_count": 1,
   "metadata": {},
   "outputs": [],
   "source": [
    "import numpy as np\n",
    "import matplotlib.pyplot as plt"
   ]
  },
  {
   "cell_type": "code",
   "execution_count": 2,
   "metadata": {},
   "outputs": [],
   "source": [
    "v = np.array([2, -1])"
   ]
  },
  {
   "cell_type": "code",
   "execution_count": 3,
   "metadata": {},
   "outputs": [
    {
     "data": {
      "image/png": "[encoded data removed]",
      "text/plain": [
       "<Figure size 432x288 with 1 Axes>"
      ]
     },
     "metadata": {},
     "output_type": "display_data"
    }
   ],
   "source": [
    "plt.plot([0, v[0]], [0, v[1]])\n",
    "plt.axis([-3, 3, -3, 3])\n",
    "plt.show()"
   ]
  },
  {
   "cell_type": "code",
   "execution_count": 5,
   "metadata": {},
   "outputs": [
    {
     "name": "stdout",
     "output_type": "stream",
     "text": [
      "[2, 5, 4, 7]\n",
      "[2 5 4 7]\n",
      "[[2]\n",
      " [5]\n",
      " [4]\n",
      " [7]]\n",
      "[[2 5 4 7]]\n"
     ]
    }
   ],
   "source": [
    "v1 = [2, 5, 4, 7]\n",
    "v2 = np.array([2, 5, 4, 7])\n",
    "v3 = np.array([[2], [5], [4], [7]])\n",
    "v4 = np.array([[2, 5, 4, 7]])\n",
    "print(v1)\n",
    "print(v2)\n",
    "print(v3)\n",
    "print(v4)"
   ]
  },
  {
   "cell_type": "markdown",
   "metadata": {},
   "source": [
    "transpose"
   ]
  },
  {
   "cell_type": "code",
   "execution_count": 13,
   "metadata": {},
   "outputs": [
    {
     "name": "stdout",
     "output_type": "stream",
     "text": [
      "v1(1, 4): [[2 5 4 7]]\n",
      "v2(4, 1): [[2]\n",
      " [5]\n",
      " [4]\n",
      " [7]]\n",
      "v3(4, 1): [[2]\n",
      " [5]\n",
      " [4]\n",
      " [7]]\n"
     ]
    }
   ],
   "source": [
    "v1 = np.array([[2, 5, 4, 7]])\n",
    "v2 = v1.T\n",
    "v3 = np.transpose(v1)\n",
    "print(f\"v1{v1.shape}: {v1}\")\n",
    "print(f\"v2{v2.shape}: {v2}\")\n",
    "print(f\"v3{v3.shape}: {v3}\")"
   ]
  },
  {
   "cell_type": "markdown",
   "metadata": {},
   "source": [
    "vector addition & subtraction"
   ]
  },
  {
   "cell_type": "code",
   "execution_count": 18,
   "metadata": {},
   "outputs": [
    {
     "name": "stdout",
     "output_type": "stream",
     "text": [
      "[[ 0  2  4 10]]\n",
      "[[  0]\n",
      " [  1]\n",
      " [-20]]\n",
      "[[2]\n",
      " [2]]\n",
      "[[-1]\n",
      " [-2]]\n",
      "[[0]\n",
      " [0]]\n",
      "[[ 3]\n",
      " [12]]\n"
     ]
    }
   ],
   "source": [
    "a = np.array([[4, 5, 1, 0]]) + np.array([[-4, -3, 3, 10]])\n",
    "b = np.array([[4, 2, 0]]).T - np.array([[6, -4, 60]]).T + np.array([[2, -5, 40]]).T\n",
    "c = np.array([[1, 0]]).T + np.array([[1, 2]]).T\n",
    "d = np.array([[2, 2]]).T - np.array([[3, 4]]).T\n",
    "e = np.array([[-3, 1]]).T + np.array([[3, -1]]).T\n",
    "f = np.array([[1, 4]]).T + np.array([[2, 8]]).T\n",
    "print(a)\n",
    "print(b)\n",
    "print(c)\n",
    "print(d)\n",
    "print(e)\n",
    "print(f)"
   ]
  },
  {
   "cell_type": "markdown",
   "metadata": {},
   "source": [
    "vector-scalar multiplication"
   ]
  },
  {
   "cell_type": "code",
   "execution_count": 19,
   "metadata": {},
   "outputs": [
    {
     "name": "stdout",
     "output_type": "stream",
     "text": [
      "[ 0 18 16 24]\n"
     ]
    }
   ],
   "source": [
    "v1 = np.array([2, 5, 4, 7])\n",
    "v2 = np.array([4, 1, 0, 2])\n",
    "v3 = 4 * v1 - 2 * v2\n",
    "print(v3)"
   ]
  },
  {
   "cell_type": "code",
   "execution_count": 24,
   "metadata": {},
   "outputs": [
    {
     "name": "stdout",
     "output_type": "stream",
     "text": [
      "[-8 -6  0]\n",
      "[[0]\n",
      " [4]\n",
      " [3]]\n",
      "[[ 0.]\n",
      " [ 0.]\n",
      " [ 0.]\n",
      " [-0.]]\n"
     ]
    }
   ],
   "source": [
    "a = -2 * np.array([4, 3, 0])\n",
    "b = (-9 + 2 * 5) * np.array([[0, 4, 3]]).T\n",
    "c = 0 * np.array([[3, 3.14 * np.pi ** 3.14, 9, -234987234]]).T\n",
    "print(a)\n",
    "print(b)\n",
    "print(c)"
   ]
  },
  {
   "cell_type": "markdown",
   "metadata": {},
   "source": [
    "Create a 2D vector **v**, 10 scalars that are drawn at random from a normal (Gaussian) distribution, and plot all 10 scalar-vector multiplication on top of each other. What do you notice?"
   ]
  },
  {
   "cell_type": "code",
   "execution_count": 36,
   "metadata": {},
   "outputs": [
    {
     "name": "stderr",
     "output_type": "stream",
     "text": [
      "/Users/mac/anaconda/lib/python3.6/site-packages/matplotlib/cbook/deprecation.py:107: MatplotlibDeprecationWarning: Passing one of 'on', 'true', 'off', 'false' as a boolean is deprecated; use an actual boolean (True/False) instead.\n",
      "  warnings.warn(message, mplDeprecation, stacklevel=1)\n"
     ]
    },
    {
     "data": {
      "image/png": "[encoded data removed]",
      "text/plain": [
       "<Figure size 432x288 with 1 Axes>"
      ]
     },
     "metadata": {},
     "output_type": "display_data"
    }
   ],
   "source": [
    "v = np.array([1, 2])\n",
    "plt.plot([0, v[0]], [0, v[1]])\n",
    "for i in range(10):\n",
    "    s = np.random.randn()\n",
    "    sv = s * v\n",
    "    plt.plot([0, sv[0]], [0, sv[1]])\n",
    "\n",
    "plt.grid('on')\n",
    "plt.axis([-4, 4, -4, 4])\n",
    "plt.show()\n"
   ]
  },
  {
   "cell_type": "code",
   "execution_count": null,
   "metadata": {},
   "outputs": [],
   "source": []
  }
 ],
 "metadata": {
  "kernelspec": {
   "display_name": "Python 3",
   "language": "python",
   "name": "python3"
  },
  "language_info": {
   "codemirror_mode": {
    "name": "ipython",
    "version": 3
   },
   "file_extension": ".py",
   "mimetype": "text/x-python",
   "name": "python",
   "nbconvert_exporter": "python",
   "pygments_lexer": "ipython3",
   "version": "3.6.4"
  }
 },
 "nbformat": 4,
 "nbformat_minor": 2
}
